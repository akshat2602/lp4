{
 "cells": [
  {
   "cell_type": "code",
   "execution_count": 2,
   "metadata": {},
   "outputs": [
    {
     "data": {
      "text/html": [
       "<div>\n",
       "<style scoped>\n",
       "    .dataframe tbody tr th:only-of-type {\n",
       "        vertical-align: middle;\n",
       "    }\n",
       "\n",
       "    .dataframe tbody tr th {\n",
       "        vertical-align: top;\n",
       "    }\n",
       "\n",
       "    .dataframe thead th {\n",
       "        text-align: right;\n",
       "    }\n",
       "</style>\n",
       "<table border=\"1\" class=\"dataframe\">\n",
       "  <thead>\n",
       "    <tr style=\"text-align: right;\">\n",
       "      <th></th>\n",
       "      <th>Unnamed: 0</th>\n",
       "      <th>TV</th>\n",
       "      <th>radio</th>\n",
       "      <th>newspaper</th>\n",
       "      <th>sales</th>\n",
       "    </tr>\n",
       "  </thead>\n",
       "  <tbody>\n",
       "    <tr>\n",
       "      <th>0</th>\n",
       "      <td>1</td>\n",
       "      <td>230.1</td>\n",
       "      <td>37.8</td>\n",
       "      <td>69.2</td>\n",
       "      <td>22.1</td>\n",
       "    </tr>\n",
       "    <tr>\n",
       "      <th>1</th>\n",
       "      <td>2</td>\n",
       "      <td>44.5</td>\n",
       "      <td>39.3</td>\n",
       "      <td>45.1</td>\n",
       "      <td>10.4</td>\n",
       "    </tr>\n",
       "    <tr>\n",
       "      <th>2</th>\n",
       "      <td>3</td>\n",
       "      <td>17.2</td>\n",
       "      <td>45.9</td>\n",
       "      <td>69.3</td>\n",
       "      <td>9.3</td>\n",
       "    </tr>\n",
       "    <tr>\n",
       "      <th>3</th>\n",
       "      <td>4</td>\n",
       "      <td>151.5</td>\n",
       "      <td>41.3</td>\n",
       "      <td>58.5</td>\n",
       "      <td>18.5</td>\n",
       "    </tr>\n",
       "    <tr>\n",
       "      <th>4</th>\n",
       "      <td>5</td>\n",
       "      <td>180.8</td>\n",
       "      <td>10.8</td>\n",
       "      <td>58.4</td>\n",
       "      <td>12.9</td>\n",
       "    </tr>\n",
       "  </tbody>\n",
       "</table>\n",
       "</div>"
      ],
      "text/plain": [
       "   Unnamed: 0     TV  radio  newspaper  sales\n",
       "0           1  230.1   37.8       69.2   22.1\n",
       "1           2   44.5   39.3       45.1   10.4\n",
       "2           3   17.2   45.9       69.3    9.3\n",
       "3           4  151.5   41.3       58.5   18.5\n",
       "4           5  180.8   10.8       58.4   12.9"
      ]
     },
     "execution_count": 2,
     "metadata": {},
     "output_type": "execute_result"
    }
   ],
   "source": [
    "import pandas as pd\n",
    "import numpy as np\n",
    "import matplotlib.pyplot as plt\n",
    "import seaborn as sn\n",
    "\n",
    "df = pd.read_csv(\"Advertising.csv\")\n",
    "df.head()\n"
   ]
  },
  {
   "cell_type": "code",
   "execution_count": 5,
   "metadata": {},
   "outputs": [],
   "source": [
    "X = df[[\"TV\", \"radio\", \"newspaper\"]]\n",
    "Y = df[\"sales\"]\n",
    "Y = np.array((Y - Y.mean()) / Y.std())\n",
    "X = X.apply(lambda rec: (rec - rec.mean()) / rec.std(), axis=0)\n"
   ]
  },
  {
   "cell_type": "code",
   "execution_count": 7,
   "metadata": {},
   "outputs": [
    {
     "name": "stdout",
     "output_type": "stream",
     "text": [
      "Bias:  0.20722026013695982 Weights:  [0.52492076 0.39890234 0.2044416 ]\n"
     ]
    }
   ],
   "source": [
    "import random\n",
    "\n",
    "\n",
    "def initialize(dim):\n",
    "    b = random.random()\n",
    "    theta = np.random.rand(dim)\n",
    "    return b, theta\n",
    "\n",
    "\n",
    "b, theta = initialize(3)\n",
    "print(\"Bias: \", b, \"Weights: \", theta)\n"
   ]
  },
  {
   "cell_type": "code",
   "execution_count": 8,
   "metadata": {},
   "outputs": [
    {
     "data": {
      "text/plain": [
       "array([ 1.46837315,  0.14766639,  0.3852514 ,  0.98139936,  0.34013311,\n",
       "        0.46739265, -0.15025648, -0.23326734, -1.485293  , -0.11322188])"
      ]
     },
     "execution_count": 8,
     "metadata": {},
     "output_type": "execute_result"
    }
   ],
   "source": [
    "def predict_Y(b, theta, X):\n",
    "    return b + np.dot(X, theta)\n",
    "\n",
    "\n",
    "Y_hat = predict_Y(b, theta, X)\n",
    "Y_hat[0:10]\n"
   ]
  },
  {
   "cell_type": "code",
   "execution_count": 9,
   "metadata": {},
   "outputs": [
    {
     "data": {
      "text/plain": [
       "0.23702113681857065"
      ]
     },
     "execution_count": 9,
     "metadata": {},
     "output_type": "execute_result"
    }
   ],
   "source": [
    "import math\n",
    "\n",
    "\n",
    "def get_cost(Y, Y_hat):\n",
    "    Y_resd = Y - Y_hat\n",
    "    return np.sum(np.dot(Y_resd.T, Y_resd)) / len(Y - Y_resd)\n",
    "\n",
    "\n",
    "Y_hat = predict_Y(b, theta, X)\n",
    "get_cost(Y, Y_hat)\n"
   ]
  },
  {
   "cell_type": "code",
   "execution_count": 10,
   "metadata": {},
   "outputs": [
    {
     "name": "stdout",
     "output_type": "stream",
     "text": [
      "After initialization -Bias:  0.20722026013695982 theta:  [0.52492076 0.39890234 0.2044416 ]\n",
      "After first update -Bias:  0.20307585493422062 theta:  [0.52937555 0.40041785 0.20151369]\n"
     ]
    },
    {
     "data": {
      "text/plain": [
       "0.23702113681857065"
      ]
     },
     "execution_count": 10,
     "metadata": {},
     "output_type": "execute_result"
    }
   ],
   "source": [
    "def update_theta(x, y, y_hat, b_0, theta_o, learning_rate):\n",
    "    db = (np.sum(y_hat - y) * 2) / len(y)\n",
    "    dw = (np.dot((y_hat - y), x) * 2) / len(y)\n",
    "    b_1 = b_0 - learning_rate * db\n",
    "    theta_1 = theta_o - learning_rate * dw\n",
    "    return b_1, theta_1\n",
    "\n",
    "\n",
    "print(\"After initialization -Bias: \", b, \"theta: \", theta)\n",
    "Y_hat = predict_Y(b, theta, X)\n",
    "b, theta = update_theta(X, Y, Y_hat, b, theta, 0.01)\n",
    "print(\"After first update -Bias: \", b, \"theta: \", theta)\n",
    "get_cost(Y, Y_hat)\n"
   ]
  },
  {
   "cell_type": "code",
   "execution_count": 17,
   "metadata": {},
   "outputs": [
    {
     "name": "stdout",
     "output_type": "stream",
     "text": [
      "Final Estimate of b and theta :  0.1453639985817984 [0.62867536 0.68854882 0.42610909]\n"
     ]
    }
   ],
   "source": [
    "def run_gradient_descent(X, Y, alpha, num_iterations):\n",
    "    b, theta = initialize(X.shape[1])\n",
    "    iter_num = 0\n",
    "    gd_iterations_df = pd.DataFrame(columns=[\"iteration\", \"cost\"])\n",
    "    result_idx = 0\n",
    "    for each_iter in range(num_iterations):\n",
    "        Y_hat = predict_Y(b, theta, X)\n",
    "        this_cost = get_cost(Y, Y_hat)\n",
    "        prev_b = b\n",
    "        prev_theta = theta\n",
    "        b, theta = update_theta(X, Y, Y_hat, prev_b, prev_theta, alpha)\n",
    "        if iter_num % 10 == 0:\n",
    "            gd_iterations_df.loc[result_idx] = [iter_num, this_cost]\n",
    "            result_idx = result_idx + 1\n",
    "        iter_num += 1\n",
    "    print(\"Final Estimate of b and theta : \", b, theta)\n",
    "    return gd_iterations_df, b, theta\n",
    "\n",
    "\n",
    "gd_iterations_df, b, theta = run_gradient_descent(X, Y, alpha=0.001, num_iterations=200)\n"
   ]
  },
  {
   "cell_type": "code",
   "execution_count": 18,
   "metadata": {},
   "outputs": [
    {
     "data": {
      "text/html": [
       "<div>\n",
       "<style scoped>\n",
       "    .dataframe tbody tr th:only-of-type {\n",
       "        vertical-align: middle;\n",
       "    }\n",
       "\n",
       "    .dataframe tbody tr th {\n",
       "        vertical-align: top;\n",
       "    }\n",
       "\n",
       "    .dataframe thead th {\n",
       "        text-align: right;\n",
       "    }\n",
       "</style>\n",
       "<table border=\"1\" class=\"dataframe\">\n",
       "  <thead>\n",
       "    <tr style=\"text-align: right;\">\n",
       "      <th></th>\n",
       "      <th>iteration</th>\n",
       "      <th>cost</th>\n",
       "    </tr>\n",
       "  </thead>\n",
       "  <tbody>\n",
       "    <tr>\n",
       "      <th>0</th>\n",
       "      <td>0.0</td>\n",
       "      <td>0.861134</td>\n",
       "    </tr>\n",
       "    <tr>\n",
       "      <th>1</th>\n",
       "      <td>10.0</td>\n",
       "      <td>0.823954</td>\n",
       "    </tr>\n",
       "    <tr>\n",
       "      <th>2</th>\n",
       "      <td>20.0</td>\n",
       "      <td>0.788644</td>\n",
       "    </tr>\n",
       "    <tr>\n",
       "      <th>3</th>\n",
       "      <td>30.0</td>\n",
       "      <td>0.755107</td>\n",
       "    </tr>\n",
       "    <tr>\n",
       "      <th>4</th>\n",
       "      <td>40.0</td>\n",
       "      <td>0.723255</td>\n",
       "    </tr>\n",
       "    <tr>\n",
       "      <th>5</th>\n",
       "      <td>50.0</td>\n",
       "      <td>0.692999</td>\n",
       "    </tr>\n",
       "    <tr>\n",
       "      <th>6</th>\n",
       "      <td>60.0</td>\n",
       "      <td>0.664259</td>\n",
       "    </tr>\n",
       "    <tr>\n",
       "      <th>7</th>\n",
       "      <td>70.0</td>\n",
       "      <td>0.636958</td>\n",
       "    </tr>\n",
       "    <tr>\n",
       "      <th>8</th>\n",
       "      <td>80.0</td>\n",
       "      <td>0.611022</td>\n",
       "    </tr>\n",
       "    <tr>\n",
       "      <th>9</th>\n",
       "      <td>90.0</td>\n",
       "      <td>0.586381</td>\n",
       "    </tr>\n",
       "  </tbody>\n",
       "</table>\n",
       "</div>"
      ],
      "text/plain": [
       "   iteration      cost\n",
       "0        0.0  0.861134\n",
       "1       10.0  0.823954\n",
       "2       20.0  0.788644\n",
       "3       30.0  0.755107\n",
       "4       40.0  0.723255\n",
       "5       50.0  0.692999\n",
       "6       60.0  0.664259\n",
       "7       70.0  0.636958\n",
       "8       80.0  0.611022\n",
       "9       90.0  0.586381"
      ]
     },
     "execution_count": 18,
     "metadata": {},
     "output_type": "execute_result"
    }
   ],
   "source": [
    "gd_iterations_df[0:10]\n"
   ]
  },
  {
   "cell_type": "code",
   "execution_count": 19,
   "metadata": {},
   "outputs": [
    {
     "data": {
      "text/plain": [
       "Text(0, 0.5, 'Cost or MSE')"
      ]
     },
     "execution_count": 19,
     "metadata": {},
     "output_type": "execute_result"
    },
    {
     "data": {
      "image/png": "[encoded data removed]",
      "text/plain": [
       "<Figure size 640x480 with 1 Axes>"
      ]
     },
     "metadata": {},
     "output_type": "display_data"
    }
   ],
   "source": [
    "%matplotlib inline\n",
    "plt.plot(gd_iterations_df[\"iteration\"], gd_iterations_df[\"cost\"])\n",
    "plt.xlabel(\"Number of iterations\")\n",
    "plt.ylabel(\"Cost or MSE\")"
   ]
  },
  {
   "cell_type": "code",
   "execution_count": 20,
   "metadata": {},
   "outputs": [
    {
     "name": "stdout",
     "output_type": "stream",
     "text": [
      "Final Estimate of b and theta :  -3.822927961254219e-17 [ 0.75306591  0.53648155 -0.00433069]\n",
      "Final Estimate of b and theta :  0.01184597646356791 [0.74551936 0.51924107 0.0197219 ]\n"
     ]
    },
    {
     "data": {
      "text/plain": [
       "Text(0.5, 1.0, 'Cost Vs. Iterations for different alpha values')"
      ]
     },
     "execution_count": 20,
     "metadata": {},
     "output_type": "execute_result"
    },
    {
     "data": {
      "image/png": "[encoded data removed]",
      "text/plain": [
       "<Figure size 640x480 with 1 Axes>"
      ]
     },
     "metadata": {},
     "output_type": "display_data"
    }
   ],
   "source": [
    "alpha_df_1, b, theta = run_gradient_descent(X, Y, alpha=0.01, num_iterations=2000)\n",
    "alpha_df_2, b, theta = run_gradient_descent(X, Y, alpha=0.001, num_iterations=2000)\n",
    "plt.plot(alpha_df_1[\"iteration\"], alpha_df_1[\"cost\"], label=\"alpha=0.01\")\n",
    "plt.plot(alpha_df_2[\"iteration\"], alpha_df_2[\"cost\"], label=\"alpha=0.001\")\n",
    "plt.legend()\n",
    "plt.ylabel(\"cost\")\n",
    "plt.xlabel(\"Number of iterations\")\n",
    "plt.title(\"Cost Vs. Iterations for different alpha values\")"
   ]
  },
  {
   "cell_type": "code",
   "execution_count": null,
   "metadata": {},
   "outputs": [],
   "source": []
  }
 ],
 "metadata": {
  "kernelspec": {
   "display_name": "Python 3.10.6 64-bit",
   "language": "python",
   "name": "python3"
  },
  "language_info": {
   "codemirror_mode": {
    "name": "ipython",
    "version": 3
   },
   "file_extension": ".py",
   "mimetype": "text/x-python",
   "name": "python",
   "nbconvert_exporter": "python",
   "pygments_lexer": "ipython3",
   "version": "3.10.8"
  },
  "orig_nbformat": 4,
  "vscode": {
   "interpreter": {
    "hash": "b0fa6594d8f4cbf19f97940f81e996739fb7646882a419484c72d19e05852a7e"
   }
  }
 },
 "nbformat": 4,
 "nbformat_minor": 2
}
