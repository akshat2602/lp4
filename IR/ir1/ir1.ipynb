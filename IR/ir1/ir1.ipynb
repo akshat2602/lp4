{
 "cells": [
  {
   "cell_type": "code",
   "execution_count": 21,
   "metadata": {},
   "outputs": [
    {
     "name": "stdout",
     "output_type": "stream",
     "text": [
      "I am karishma and this is the first doc which is being typed ya\n",
      "\n",
      "mello jello fello karishma read first\n",
      "\n",
      "similarity:  0.3333333333333333\n"
     ]
    }
   ],
   "source": [
    "from nltk.corpus import stopwords\n",
    "from nltk.tokenize import word_tokenize\n",
    "\n",
    "# X = input(\"Enter first string: \").lower()\n",
    "# Y = input(\"Enter second string: \").lower()\n",
    "#X =\"I love horror movies\"\n",
    "#Y =\"Lights out is a horror movie\"\n",
    "\n",
    "d1 = open(\"d1.txt\", \"r\")\n",
    "X = d1.read()\n",
    "d1.close()\n",
    "print(X)\n",
    "\n",
    "d2 = open(\"d2.txt\", \"r\")\n",
    "Y = d2.read()\n",
    "d2.close()\n",
    "print(Y)\n",
    "\n",
    "X_list = word_tokenize(X)\n",
    "Y_list = word_tokenize(Y)\n",
    "\n",
    "sw = stopwords.words('english')\n",
    "l1 =[];l2 =[]\n",
    "\n",
    "X_set = {w for w in X_list if not w in sw}\n",
    "Y_set = {w for w in Y_list if not w in sw}\n",
    "\n",
    "rvector = X_set.union(Y_set)\n",
    "for w in rvector:\n",
    "\tif w in X_set: l1.append(1)\n",
    "\telse: l1.append(0)\n",
    "\tif w in Y_set: l2.append(1)\n",
    "\telse: l2.append(0)\n",
    "c = 0\n",
    "\n",
    "for i in range(len(rvector)):\n",
    "\t\tc+= l1[i]*l2[i]\n",
    "cosine = c / float((sum(l1)*sum(l2))**0.5)\n",
    "\n",
    "print(\"similarity: \", cosine)\n"
   ]
  },
  {
   "cell_type": "code",
   "execution_count": null,
   "metadata": {},
   "outputs": [],
   "source": []
  }
 ],
 "metadata": {
  "kernelspec": {
   "display_name": "Python 3 (ipykernel)",
   "language": "python",
   "name": "python3"
  },
  "language_info": {
   "codemirror_mode": {
    "name": "ipython",
    "version": 3
   },
   "file_extension": ".py",
   "mimetype": "text/x-python",
   "name": "python",
   "nbconvert_exporter": "python",
   "pygments_lexer": "ipython3",
   "version": "3.8.10"
  }
 },
 "nbformat": 4,
 "nbformat_minor": 2
}
