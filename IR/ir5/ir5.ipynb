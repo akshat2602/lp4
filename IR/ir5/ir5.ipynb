{
 "cells": [
  {
   "cell_type": "code",
   "execution_count": 8,
   "metadata": {},
   "outputs": [
    {
     "name": "stdout",
     "output_type": "stream",
     "text": [
      "#document\n",
      "root\n"
     ]
    }
   ],
   "source": [
    "import xml.dom.minidom\n",
    "def main():\n",
    "    doc=xml.dom.minidom.parse(\"doc.xml\");\n",
    "    print(doc.nodeName)\n",
    "    print(doc.firstChild.tagName)\n",
    "if __name__==\"__main__\":\n",
    "    main()"
   ]
  },
  {
   "cell_type": "code",
   "execution_count": 12,
   "metadata": {},
   "outputs": [
    {
     "name": "stdout",
     "output_type": "stream",
     "text": [
      "#document\n",
      "employee\n",
      "4 expertise:\n",
      "SQl\n",
      "Python\n",
      "Testing\n",
      "Business\n",
      " \n",
      "5 expertise:\n",
      "SQl\n",
      "Python\n",
      "Testing\n",
      "Business\n",
      "BigData\n"
     ]
    }
   ],
   "source": [
    "import xml.dom.minidom\n",
    "doc = xml.dom.minidom.parse(\"doc.xml\");\n",
    "print (doc.nodeName)\n",
    "print (doc.firstChild.tagName)\n",
    "\n",
    "expertise = doc.getElementsByTagName(\"expertise\")\n",
    "print (\"%d expertise:\" % expertise.length)\n",
    "for skill in expertise:\n",
    "    print (skill.getAttribute(\"name\"))\n",
    "    \n",
    "newexpertise = doc.createElement(\"expertise\")\n",
    "newexpertise.setAttribute(\"name\", \"BigData\")\n",
    "doc.firstChild.appendChild(newexpertise)\n",
    "\n",
    "print (\" \")\n",
    "expertise = doc.getElementsByTagName(\"expertise\")\n",
    "print (\"%d expertise:\" % expertise.length)\n",
    "for skill in expertise:\n",
    "    print (skill.getAttribute(\"name\"))\n"
   ]
  },
  {
   "cell_type": "code",
   "execution_count": null,
   "metadata": {},
   "outputs": [],
   "source": []
  }
 ],
 "metadata": {
  "kernelspec": {
   "display_name": "Python 3 (ipykernel)",
   "language": "python",
   "name": "python3"
  },
  "language_info": {
   "codemirror_mode": {
    "name": "ipython",
    "version": 3
   },
   "file_extension": ".py",
   "mimetype": "text/x-python",
   "name": "python",
   "nbconvert_exporter": "python",
   "pygments_lexer": "ipython3",
   "version": "3.8.10"
  }
 },
 "nbformat": 4,
 "nbformat_minor": 2
}
